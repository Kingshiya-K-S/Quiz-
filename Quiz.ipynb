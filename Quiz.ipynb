{
 "cells": [
  {
   "cell_type": "code",
   "execution_count": null,
   "id": "0f3b47f0",
   "metadata": {},
   "outputs": [],
   "source": [
    "# Step 1: Define your questions\n",
    "quiz = [\n",
    "    {\"question\": \"What is the capital of France?\", \"options\": [\"A. London\", \"B. Berlin\", \"C. Paris\", \"D. Madrid\"], \"answer\": \"C\"},\n",
    "    {\"question\": \"Who wrote the national anthem of India?\", \"options\": [\"A. Rabindranath Tagore\", \"B. Bankim Chandra\", \"C. Aurobindo Ghosh\", \"D. Subhash Chandra Bose\"], \"answer\": \"A\"},\n",
    "    {\"question\": \"Which planet is known as the Red Planet?\", \"options\": [\"A. Earth\", \"B. Mars\", \"C. Jupiter\", \"D. Venus\"], \"answer\": \"B\"},\n",
    "    {\"question\": \"What is the currency of Japan?\", \"options\": [\"A. Won\", \"B. Yen\", \"C. Dollar\", \"D. Euro\"], \"answer\": \"B\"},\n",
    "    {\"question\": \"Who was the first President of India?\", \"options\": [\"A. Rajendra Prasad\", \"B. Zakir Hussain\", \"C. APJ Abdul Kalam\", \"D. Radhakrishnan\"], \"answer\": \"A\"},\n",
    "    {\"question\": \"Which element has the chemical symbol 'O'?\", \"options\": [\"A. Oxygen\", \"B. Osmium\", \"C. Oganesson\", \"D. Oxide\"], \"answer\": \"A\"},\n",
    "    {\"question\": \"Which gas do plants absorb from the atmosphere?\", \"options\": [\"A. Oxygen\", \"B. Carbon Dioxide\", \"C. Nitrogen\", \"D. Hydrogen\"], \"answer\": \"B\"},\n",
    "    {\"question\": \"What is the tallest mountain in the world?\", \"options\": [\"A. K2\", \"B. Kangchenjunga\", \"C. Mount Everest\", \"D. Lhotse\"], \"answer\": \"C\"},\n",
    "    {\"question\": \"Which year did India gain independence?\", \"options\": [\"A. 1945\", \"B. 1947\", \"C. 1950\", \"D. 1937\"], \"answer\": \"B\"},\n",
    "    {\"question\": \"What is H2O commonly known as?\", \"options\": [\"A. Salt\", \"B. Acid\", \"C. Water\", \"D. Sugar\"], \"answer\": \"C\"},\n",
    "    {\"question\": \"Who is known as the Father of the Nation in India?\", \"options\": [\"A. Nehru\", \"B. Gandhi\", \"C. Bose\", \"D. Tilak\"], \"answer\": \"B\"},\n",
    "    {\"question\": \"Which animal is known as the 'Ship of the Desert'?\", \"options\": [\"A. Horse\", \"B. Donkey\", \"C. Camel\", \"D. Mule\"], \"answer\": \"C\"},\n",
    "    {\"question\": \"Which is the largest ocean in the world?\", \"options\": [\"A. Atlantic\", \"B. Pacific\", \"C. Indian\", \"D. Arctic\"], \"answer\": \"B\"},\n",
    "    {\"question\": \"Which is the longest river in the world?\", \"options\": [\"A. Nile\", \"B. Ganga\", \"C. Amazon\", \"D. Yangtze\"], \"answer\": \"A\"},\n",
    "    {\"question\": \"Which is the smallest continent?\", \"options\": [\"A. Australia\", \"B. Europe\", \"C. Antarctica\", \"D. South America\"], \"answer\": \"A\"},\n",
    "    {\"question\": \"Who discovered gravity?\", \"options\": [\"A. Newton\", \"B. Einstein\", \"C. Galileo\", \"D. Tesla\"], \"answer\": \"A\"},\n",
    "    {\"question\": \"Which instrument is used to measure temperature?\", \"options\": [\"A. Thermometer\", \"B. Barometer\", \"C. Altimeter\", \"D. Speedometer\"], \"answer\": \"A\"},\n",
    "    {\"question\": \"Who is the author of 'Harry Potter'?\", \"options\": [\"A. Tolkien\", \"B. Rowling\", \"C. Lewis\", \"D. Christie\"], \"answer\": \"B\"},\n",
    "    {\"question\": \"Which is the national flower of India?\", \"options\": [\"A. Rose\", \"B. Jasmine\", \"C. Lotus\", \"D. Lily\"], \"answer\": \"C\"},\n",
    "    {\"question\": \"Which festival is known as the festival of lights?\", \"options\": [\"A. Holi\", \"B. Diwali\", \"C. Eid\", \"D. Christmas\"], \"answer\": \"B\"},\n",
    "    {\"question\": \"Which planet is closest to the sun?\", \"options\": [\"A. Venus\", \"B. Earth\", \"C. Mars\", \"D. Mercury\"], \"answer\": \"D\"},\n",
    "    {\"question\": \"What is the national animal of India?\", \"options\": [\"A. Elephant\", \"B. Lion\", \"C. Tiger\", \"D. Leopard\"], \"answer\": \"C\"},\n",
    "    {\"question\": \"Which language has the most native speakers?\", \"options\": [\"A. English\", \"B. Hindi\", \"C. Mandarin\", \"D. Spanish\"], \"answer\": \"C\"},\n",
    "    {\"question\": \"What is the boiling point of water?\", \"options\": [\"A. 90°C\", \"B. 100°C\", \"C. 80°C\", \"D. 70°C\"], \"answer\": \"B\"},\n",
    "    {\"question\": \"Who invented the telephone?\", \"options\": [\"A. Graham Bell\", \"B. Edison\", \"C. Newton\", \"D. Marconi\"], \"answer\": \"A\"}\n",
    "]\n",
    "\n"
   ]
  },
  {
   "cell_type": "code",
   "execution_count": null,
   "id": "9b844dc1",
   "metadata": {},
   "outputs": [],
   "source": [
    "# Step 2: Function to ask a question\n",
    "def ask_question(q):\n",
    "    print(\"\\n\" + q[\"question\"])\n",
    "    for option in q[\"options\"]:\n",
    "        print(option)\n",
    "        \n",
    "    valid_inputs = ['A', 'B', 'C', 'D']\n",
    "    \n",
    "    while True:\n",
    "        answer = input(\"Enter your answer (A/B/C/D): \").strip().upper()\n",
    "        if answer in valid_inputs:\n",
    "            break\n",
    "        else:\n",
    "            print(\"❌ Invalid input. Please enter A, B, C, or D.\")\n",
    "    \n",
    "    if answer == q[\"answer\"]:\n",
    "        print(\"✅ Correct!\\n\")\n",
    "        return True\n",
    "    else:\n",
    "        print(f\"❌ Wrong! The correct answer was: {q['answer']}\\n\")\n",
    "        return False\n"
   ]
  },
  {
   "cell_type": "code",
   "execution_count": null,
   "id": "462996d0",
   "metadata": {},
   "outputs": [],
   "source": [
    "# Step 3: Main function to run the quiz\n",
    "def run_quiz(questions):\n",
    "    print(\"🎉 Welcome to the General Knowledge Quiz! 🎉\")\n",
    "    score = 0\n",
    "    \n",
    "    for i, question in enumerate(questions):\n",
    "        print(f\"--- Question {i + 1} ---\")\n",
    "        if ask_question(question):\n",
    "            score += 1\n",
    "    \n",
    "    print(f\"🧠 Your final score is {score} out of {len(questions)}.\")\n",
    "    if score == len(questions):\n",
    "        print(\"🏆 Excellent! You got all answers right!\")\n",
    "    elif score >= len(questions) // 2:\n",
    "        print(\"👍 Good job! Keep learning!\")\n",
    "    else:\n",
    "        print(\"📚 Better luck next time. Keep practicing!\")\n"
   ]
  },
  {
   "cell_type": "code",
   "execution_count": null,
   "id": "5e00c019",
   "metadata": {},
   "outputs": [],
   "source": [
    "# Step 4: Run the quiz\n",
    "run_quiz(quiz)\n"
   ]
  },
  {
   "cell_type": "code",
   "execution_count": null,
   "id": "17c7e472",
   "metadata": {},
   "outputs": [],
   "source": []
  },
  {
   "cell_type": "code",
   "execution_count": null,
   "id": "f50cf9e1",
   "metadata": {},
   "outputs": [],
   "source": []
  }
 ],
 "metadata": {
  "kernelspec": {
   "display_name": "Python 3 (ipykernel)",
   "language": "python",
   "name": "python3"
  },
  "language_info": {
   "codemirror_mode": {
    "name": "ipython",
    "version": 3
   },
   "file_extension": ".py",
   "mimetype": "text/x-python",
   "name": "python",
   "nbconvert_exporter": "python",
   "pygments_lexer": "ipython3",
   "version": "3.9.13"
  }
 },
 "nbformat": 4,
 "nbformat_minor": 5
}
